{
 "cells": [
  {
   "attachments": {},
   "cell_type": "markdown",
   "metadata": {},
   "source": [
    "Adding Sentiment Analysis to Tweets"
   ]
  },
  {
   "cell_type": "code",
   "execution_count": 5,
   "metadata": {},
   "outputs": [],
   "source": [
    "import pandas as pd\n",
    "from vaderSentiment.vaderSentiment import SentimentIntensityAnalyzer"
   ]
  },
  {
   "cell_type": "code",
   "execution_count": 6,
   "metadata": {},
   "outputs": [],
   "source": [
    "#load in dataset\n",
    "dataset = pd.read_csv(\"/Users/cameronfaulkner/Documents/Cogs 118a/Final Project/Reduced Dataset\")"
   ]
  },
  {
   "cell_type": "code",
   "execution_count": 31,
   "metadata": {},
   "outputs": [
    {
     "data": {
      "text/plain": [
       "786268"
      ]
     },
     "execution_count": 31,
     "metadata": {},
     "output_type": "execute_result"
    }
   ],
   "source": [
    "dataset.shape[0]"
   ]
  },
  {
   "attachments": {},
   "cell_type": "markdown",
   "metadata": {},
   "source": [
    "Sentiment Analysis Application"
   ]
  },
  {
   "cell_type": "code",
   "execution_count": 32,
   "metadata": {},
   "outputs": [],
   "source": [
    "#sentiment analysis function using vaderSentimennt\n",
    "def sentiment_analysis(text_list):\n",
    "    sentiment_list = []\n",
    "    #initialize sentiment analysis object\n",
    "    sentiment_analyzer = SentimentIntensityAnalyzer()\n",
    "    for tweet in text_list:\n",
    "        tweet_sentiments = sentiment_analyzer.polarity_scores(tweet)\n",
    "        #making a determination about the sentiment of the Tweet with our compound thresholds\n",
    "        if tweet_sentiments['compound'] >= 0.05:\n",
    "            sentiment_list.append(\"positive\")\n",
    "        elif tweet_sentiments[\"compound\"] <= - 0.05:\n",
    "            sentiment_list.append(\"negative\")\n",
    "        else:\n",
    "            sentiment_list.append(\"neutral\")\n",
    "    return sentiment_list"
   ]
  },
  {
   "cell_type": "code",
   "execution_count": 33,
   "metadata": {},
   "outputs": [],
   "source": [
    "#applying sentiment analysis \n",
    "sentiments = sentiment_analysis(dataset[\"rawContent\"])"
   ]
  },
  {
   "attachments": {},
   "cell_type": "markdown",
   "metadata": {},
   "source": [
    "As my sentiment data is categorical, I must transform into numerical data with one hot encoding in order to use it in our model"
   ]
  },
  {
   "cell_type": "code",
   "execution_count": 60,
   "metadata": {},
   "outputs": [],
   "source": [
    "#one hot encoding function\n",
    "def one_hot(sentiment_list):\n",
    "    positive = [0]*len(sentiment_list)\n",
    "    negative = [0]*len(sentiment_list)\n",
    "    neutral = [0]*len(sentiment_list)\n",
    "    for i in range(len(sentiment_list)):\n",
    "        if sentiment_list[i] == \"positive\":\n",
    "            positive[i] = 1\n",
    "        elif sentiment_list[i] == \"negative\":\n",
    "            negative[i] = 1\n",
    "        else:\n",
    "            neutral[i] = 1\n",
    "    return {\"pos\":positive,\"neg\":negative,\"neu\":neutral}"
   ]
  },
  {
   "cell_type": "code",
   "execution_count": 58,
   "metadata": {},
   "outputs": [],
   "source": [
    "one_hot_lists = one_hot(sentiments)"
   ]
  },
  {
   "cell_type": "code",
   "execution_count": 65,
   "metadata": {},
   "outputs": [],
   "source": [
    "#adding one hot encoded sentiment variables to my dataset\n",
    "dataset[\"Positive\"] = one_hot_lists[\"pos\"]\n",
    "dataset[\"Negative\"] = one_hot_lists[\"neg\"]\n",
    "dataset[\"Neutral\"] = one_hot_lists[\"neu\"]"
   ]
  },
  {
   "cell_type": "code",
   "execution_count": 66,
   "metadata": {},
   "outputs": [
    {
     "data": {
      "text/html": [
       "<div>\n",
       "<style scoped>\n",
       "    .dataframe tbody tr th:only-of-type {\n",
       "        vertical-align: middle;\n",
       "    }\n",
       "\n",
       "    .dataframe tbody tr th {\n",
       "        vertical-align: top;\n",
       "    }\n",
       "\n",
       "    .dataframe thead th {\n",
       "        text-align: right;\n",
       "    }\n",
       "</style>\n",
       "<table border=\"1\" class=\"dataframe\">\n",
       "  <thead>\n",
       "    <tr style=\"text-align: right;\">\n",
       "      <th></th>\n",
       "      <th>rawContent</th>\n",
       "      <th>replyCount</th>\n",
       "      <th>retweetCount</th>\n",
       "      <th>likeCount</th>\n",
       "      <th>quoteCount</th>\n",
       "      <th>links</th>\n",
       "      <th>media</th>\n",
       "      <th>mentionedUsers</th>\n",
       "      <th>hashtags</th>\n",
       "      <th>Party</th>\n",
       "      <th>Positive</th>\n",
       "      <th>Negative</th>\n",
       "      <th>Neutral</th>\n",
       "    </tr>\n",
       "  </thead>\n",
       "  <tbody>\n",
       "    <tr>\n",
       "      <th>0</th>\n",
       "      <td>New Year’s Day in Seward overlooking the harbo...</td>\n",
       "      <td>44.0</td>\n",
       "      <td>12.0</td>\n",
       "      <td>239.0</td>\n",
       "      <td>2.0</td>\n",
       "      <td>0</td>\n",
       "      <td>3</td>\n",
       "      <td>0</td>\n",
       "      <td>0</td>\n",
       "      <td>1</td>\n",
       "      <td>1</td>\n",
       "      <td>0</td>\n",
       "      <td>0</td>\n",
       "    </tr>\n",
       "    <tr>\n",
       "      <th>1</th>\n",
       "      <td>Happy #NewYear!</td>\n",
       "      <td>19.0</td>\n",
       "      <td>4.0</td>\n",
       "      <td>22.0</td>\n",
       "      <td>1.0</td>\n",
       "      <td>0</td>\n",
       "      <td>0</td>\n",
       "      <td>0</td>\n",
       "      <td>1</td>\n",
       "      <td>1</td>\n",
       "      <td>1</td>\n",
       "      <td>0</td>\n",
       "      <td>0</td>\n",
       "    </tr>\n",
       "    <tr>\n",
       "      <th>2</th>\n",
       "      <td>I championed provisions to strengthen Alaska’s...</td>\n",
       "      <td>9.0</td>\n",
       "      <td>5.0</td>\n",
       "      <td>19.0</td>\n",
       "      <td>0.0</td>\n",
       "      <td>0</td>\n",
       "      <td>0</td>\n",
       "      <td>0</td>\n",
       "      <td>0</td>\n",
       "      <td>1</td>\n",
       "      <td>1</td>\n",
       "      <td>0</td>\n",
       "      <td>0</td>\n",
       "    </tr>\n",
       "    <tr>\n",
       "      <th>3</th>\n",
       "      <td>December: As senior Appropriator, I helped wri...</td>\n",
       "      <td>11.0</td>\n",
       "      <td>6.0</td>\n",
       "      <td>28.0</td>\n",
       "      <td>3.0</td>\n",
       "      <td>0</td>\n",
       "      <td>1</td>\n",
       "      <td>0</td>\n",
       "      <td>0</td>\n",
       "      <td>1</td>\n",
       "      <td>1</td>\n",
       "      <td>0</td>\n",
       "      <td>0</td>\n",
       "    </tr>\n",
       "    <tr>\n",
       "      <th>4</th>\n",
       "      <td>December: Congressman Don Young’s legacy will ...</td>\n",
       "      <td>5.0</td>\n",
       "      <td>9.0</td>\n",
       "      <td>46.0</td>\n",
       "      <td>1.0</td>\n",
       "      <td>0</td>\n",
       "      <td>1</td>\n",
       "      <td>0</td>\n",
       "      <td>0</td>\n",
       "      <td>1</td>\n",
       "      <td>1</td>\n",
       "      <td>0</td>\n",
       "      <td>0</td>\n",
       "    </tr>\n",
       "  </tbody>\n",
       "</table>\n",
       "</div>"
      ],
      "text/plain": [
       "                                          rawContent  replyCount  \\\n",
       "0  New Year’s Day in Seward overlooking the harbo...        44.0   \n",
       "1                                    Happy #NewYear!        19.0   \n",
       "2  I championed provisions to strengthen Alaska’s...         9.0   \n",
       "3  December: As senior Appropriator, I helped wri...        11.0   \n",
       "4  December: Congressman Don Young’s legacy will ...         5.0   \n",
       "\n",
       "   retweetCount  likeCount  quoteCount  links  media  mentionedUsers  \\\n",
       "0          12.0      239.0         2.0      0      3               0   \n",
       "1           4.0       22.0         1.0      0      0               0   \n",
       "2           5.0       19.0         0.0      0      0               0   \n",
       "3           6.0       28.0         3.0      0      1               0   \n",
       "4           9.0       46.0         1.0      0      1               0   \n",
       "\n",
       "   hashtags  Party  Positive  Negative  Neutral  \n",
       "0         0      1         1         0        0  \n",
       "1         1      1         1         0        0  \n",
       "2         0      1         1         0        0  \n",
       "3         0      1         1         0        0  \n",
       "4         0      1         1         0        0  "
      ]
     },
     "execution_count": 66,
     "metadata": {},
     "output_type": "execute_result"
    }
   ],
   "source": [
    "dataset.head()"
   ]
  },
  {
   "cell_type": "code",
   "execution_count": 67,
   "metadata": {},
   "outputs": [],
   "source": [
    "dataset.to_csv(\"Sentiment Added Dataset\",index=False)"
   ]
  },
  {
   "cell_type": "code",
   "execution_count": null,
   "metadata": {},
   "outputs": [],
   "source": []
  }
 ],
 "metadata": {
  "kernelspec": {
   "display_name": "base",
   "language": "python",
   "name": "python3"
  },
  "language_info": {
   "codemirror_mode": {
    "name": "ipython",
    "version": 3
   },
   "file_extension": ".py",
   "mimetype": "text/x-python",
   "name": "python",
   "nbconvert_exporter": "python",
   "pygments_lexer": "ipython3",
   "version": "3.9.7"
  },
  "orig_nbformat": 4
 },
 "nbformat": 4,
 "nbformat_minor": 2
}
