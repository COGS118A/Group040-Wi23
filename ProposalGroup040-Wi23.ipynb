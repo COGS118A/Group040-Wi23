{
 "cells": [
  {
   "cell_type": "markdown",
   "metadata": {},
   "source": [
    "# COGS 118A- Project Proposal"
   ]
  },
  {
   "cell_type": "markdown",
   "metadata": {},
   "source": [
    "# Project Description\n",
    "\n",
    "You will design and execute a machine learning project. There are a few constraints on the nature of the allowed project. \n",
    "- The problem addressed will not be a \"toy problem\" or \"common training students problem\" like mtcars, iris, palmer penguins etc.\n",
    "- The dataset will have >1k observations and >5 variables. I'd prefer more like >10k observations and >10 variables. A general rule is that if you have >100x more observations than variables, your solution will likely generalize a lot better. The goal of training a supervised machine learning model is to learn the underlying pattern in a dataset in order to generalize well to unseen data, so choosing a large dataset is very important.\n",
    "\n",
    "- The project will include a model selection and/or feature selection component where you will be looking for the best setup to maximize the performance of your ML system.\n",
    "- You will evaluate the performance of your ML system using more than one appropriate metric\n",
    "- You will be writing a report describing and discussing these accomplishments\n",
    "\n",
    "\n",
    "Feel free to delete this description section when you hand in your proposal."
   ]
  },
  {
   "cell_type": "markdown",
   "metadata": {},
   "source": [
    "### Peer Review\n",
    "\n",
    "You will all have an opportunity to look at the Project Proposals of other groups to fuel your creativity and get more ideas for how you can improve your own projects. \n",
    "\n",
    "Both the project proposal and project checkpoint will have peer review."
   ]
  },
  {
   "attachments": {},
   "cell_type": "markdown",
   "metadata": {},
   "source": [
    "# Names\n",
    "\n",
    "Hopefully your team is at least this good. Obviously you should replace these with your names.\n",
    "- Cameron Faulkner\n",
    "- Nikhil Hegde \n",
    "- Qianxi Gong\n",
    "- Atul Nair \n"
   ]
  },
  {
   "attachments": {},
   "cell_type": "markdown",
   "metadata": {},
   "source": [
    "# Abstract \n",
    "This section should be short and clearly stated. It should be a single paragraph <200 words.  It should summarize: \n",
    "- what your goal/problem is\n",
    "- what the data used represents and how they are measured\n",
    "- what you will be doing with the data\n",
    "- how performance/success will be measured\n",
    "\n",
    "\n",
    "We are trying to assess what keywords and tweet sentiments result in a viral tweet amongst politicians. We will be using tweets from congresspeople from twitter using a scraper. We would have to clean the raw data and adapt it to a readable data frame so that we can manipulate the data for our data science workflows (EDA, feature selection, etc). We will be creating a performance metric based on the number of likes, retweets and followers to assess virality. \n"
   ]
  },
  {
   "attachments": {},
   "cell_type": "markdown",
   "metadata": {},
   "source": [
    "# Background\n",
    "\n",
    "Fill in the background and discuss the kind of prior work that has gone on in this research area here. **Use inline citation** to specify which references support which statements.  You can do that through HTML footnotes (demonstrated here). I used to reccommend Markdown footnotes (google is your friend) because they are simpler but recently I have had some problems with them working for me whereas HTML ones always work so far. So use the method that works for you, but do use inline citations.\n",
    "\n",
    "Here is an example of inline citation. After government genocide in the 20th century, real birds were replaced with surveillance drones designed to look just like birds<a name=\"lorenz\"></a>[<sup>[1]</sup>](#lorenznote). Use a minimum of 2 or 3 citations, but we prefer more <a name=\"admonish\"></a>[<sup>[2]</sup>](#admonishnote). You need enough citations to fully explain and back up important facts. \n",
    "\n",
    "Remeber you are trying to explain why someone would want to answer your question or why your hypothesis is in the form that you've stated. \n",
    "\n",
    "\n",
    "\n",
    "\n",
    "Previous research has demonstrated that sentiment analysis of Members of Parliament (MPs) s' tweets can be used to predict their popularity. In particular, studies have shown that factors such as negative sentiments is a key factor that influences the level of retweets received by MPs. These findings suggest that analyzing the words and language used by MPs in their tweets can provide insights into their strategies for gaining popularity on social media platforms.\n",
    "Given our real-world political knowledge, we suspect that the use of certain words and language patterns may have different impacts on the popularity of tweets from MPs of different parties.\n",
    "(another study)\n",
    "To explore this further, we are interested in investigating whether the distribution of language use and popularity among different parties can be modeled using a mixture of supervised and unsupervised methods. By examining the use of specific words and phrases across tweets from different political parties, it is possible to score a tweet from a MP given their party, by template matching language patterns from that party and model how they will be reacted upon by the public.\n",
    "\n",
    "\n",
    "\n",
    "\n",
    "\n",
    "\n",
    "Potential footnotes:\n",
    "- https://arxiv.org/pdf/2204.06515.pdf\n",
    "- https://arxiv.org/pdf/2202.00396.pdf\n"
   ]
  },
  {
   "attachments": {},
   "cell_type": "markdown",
   "metadata": {},
   "source": [
    "# Problem Statement\n",
    "\n",
    "Clearly describe the problem that you are solving. Avoid ambiguous words. The problem described should be well defined and should have at least one ML-relevant potential solution. Additionally, describe the problem thoroughly such that it is clear that the problem is quantifiable (the problem can be expressed in mathematical or logical terms), measurable (the problem can be measured by some metric and clearly observed), and replicable (the problem can be reproduced and occurs more than once).\n",
    "\n",
    "\n",
    "When politicians make public statements, they often seek to maximize the reach of their message and build their personal brand. The appeal of doing so is obvious and certain members of Congress have made careers, and presidencies, out of being the metaphorical loudest voice in the room. However, some statements fail to gain traction and leave their originators looking out of touch with their constituents and the political atmosphere. \n",
    "We are attempting to solve the uncertainty of whether a Tweet made by a sitting member of Congress will receive high engagement, defined in terms of likes, replies, and quote Tweets. By training a model with sentiment analysis of Tweets, word frequency analysis, partisan affiliation, and engagement metrics, we believe that we will be able to accurately predict the extent of engagement a potential Tweet will have. \n"
   ]
  },
  {
   "attachments": {},
   "cell_type": "markdown",
   "metadata": {},
   "source": [
    "# Data\n",
    "\n",
    "You should have a strong idea of what dataset(s) will be used to accomplish this project. \n",
    "\n",
    "If you know what (some) of the data you will use, please give the following information for each dataset:\n",
    "- link/reference to obtain it\n",
    "- description of the size of the dataset (# of variables, # of observations)\n",
    "- what an observation consists of\n",
    "- what some critical variables are, how they are represented\n",
    "- any special handling, transformations, cleaning, etc will be needed\n",
    "\n",
    "If you don't yet know what your dataset(s) will be, you should describe what you desire in terms of the above bullets.\n",
    "\n",
    "\n",
    "\n",
    "\n",
    "\n",
    "- We will be collecting the Tweets of all 534 American members of the 117th session of Congress with Twitter accounts over the duration of the Congress: January 3, 2021- January 3, 2023.\n",
    "- To do so, we will be using the snscrape scraper package which can neatly collect a specified user’s Tweets. \n",
    "\n",
    "- Each Tweet will be an observation in the dataframe that includes the text content of the tweet, as well as its likes, retweets, and quote tweets.\n",
    "- We will also be labeling the tweets as coming from either a Republican or a Democrat (there were no Independents in the 117th congress) as we theorize there may be a difference in the factors that lead to viral tweets based on party affiliation. \n",
    "Link to the source of Congressional Twitter accounts - https://www.google.com/search?q=twitter+handles+117th+congress&zx=1677090785067&no_sw_cr=1\n"
   ]
  },
  {
   "attachments": {},
   "cell_type": "markdown",
   "metadata": {},
   "source": [
    "# Proposed Solution\n",
    "\n",
    "In this section, clearly describe a solution to the problem. The solution should be applicable to the project domain and appropriate for the dataset(s) or input(s) given. Provide enough detail (e.g., algorithmic description and/or theoretical properties) to convince us that your solution is applicable. Why might your solution work? Make sure to describe how the solution will be tested.  \n",
    "\n",
    "If you know details already, describe how (e.g., library used, function calls) you plan to implement the solution in a way that is reproducible.\n",
    "\n",
    "If it is appropriate to the problem statement, describe a benchmark model<a name=\"sota\"></a>[<sup>[3]</sup>](#sotanote) against which your solution will be compared. \n",
    "\n",
    "\n",
    "\n",
    "One potential solution to the problem of predicting tweet engagement among members of Congress is to use a machine learning algorithm that incorporates sentiment analysis, word frequency analysis, and partisan affiliation.\n",
    "\n",
    "One specific approach to this problem could involve using a supervised learning algorithm, such as logistic regression or random forest, to predict the likelihood of a tweet going viral based on its features. The features could include sentiment analysis scores for each tweet, as well as the frequency of certain keywords or phrases. Other features could include the partisan affiliation of the member of Congress who tweeted the message, the number of followers they have, and the time of day the tweet was posted.\n",
    "\n",
    "To implement this solution, one could use a variety of libraries and functions. For example, the NLTK library could be used for sentiment analysis, while scikit-learn could be used for machine learning.\n",
    "To test the accuracy of the model, one could split the data into training and testing sets and evaluate its performance using metrics such as accuracy, precision, recall, and F1 score. It may also be helpful to compare the performance of the model against a benchmark model, such as a simple baseline that predicts the most common class (e.g. non-viral).\n",
    "\n",
    "Overall, the success of this solution will depend on the quality of the data and the features selected. \n"
   ]
  },
  {
   "attachments": {},
   "cell_type": "markdown",
   "metadata": {},
   "source": [
    "# Evaluation Metrics\n",
    "\n",
    "Propose at least one evaluation metric that can be used to quantify the performance of both the benchmark model and the solution model. The evaluation metric(s) you propose should be appropriate given the context of the data, the problem statement, and the intended solution. Describe how the evaluation metric(s) are derived and provide an example of their mathematical representations (if applicable). Complex evaluation metrics should be clearly defined and quantifiable (can be expressed in mathematical or logical terms).\n",
    "\n",
    "\n",
    "\n",
    "\n",
    "\n",
    "One evaluation metric that can be used to quantify the performance of both the benchmark model and the solution model is the F1 score. In the context of predicting tweet engagement, precision represents the proportion of predicted viral tweets that are actually viral, while recall represents the proportion of actual viral tweets that are correctly predicted as viral. The F1 score balances these two metrics, giving equal weight to precision and recall, and provides a single score that summarizes the overall performance of the model.\n",
    "\n",
    "\n",
    "\n",
    "\n",
    "F1 = 2 * (precision * recall) / (precision + recall)\n",
    "\n",
    "\n",
    "where precision = true positives / (true positives + false positives)\n",
    "and recall = true positives / (true positives + false negatives)\n",
    "\n",
    "\n",
    "True positives are the number of tweets that are correctly predicted as viral, while false positives are the number of tweets that are predicted as viral but are actually non-viral, and false negatives are the number of tweets that are actually viral but are predicted as non-viral.\n",
    "For example, if the solution model correctly predicts 80% of viral tweets with a precision of 75%, and correctly predicts 70% of non-viral tweets with a precision of 90%, then the F1 score would be:\n",
    "\n",
    "\n",
    "precision = 0.75\n",
    "recall = 0.8\n",
    "F1 = 2 * (0.75 * 0.8) / (0.75 + 0.8) = 0.77\n",
    "\n",
    "\n",
    "This indicates that the model has a relatively good balance between precision and recall, with a reasonable overall performance. By comparing the F1 score of the benchmark model and the solution model, we can assess the effectiveness of the solution in improving predictive accuracy.\n"
   ]
  },
  {
   "cell_type": "markdown",
   "metadata": {},
   "source": [
    "# Ethics & Privacy"
   ]
  },
  {
   "attachments": {},
   "cell_type": "markdown",
   "metadata": {},
   "source": [
    "If your project has obvious potential concerns with ethics or data privacy discuss that here.  Almost every ML project put into production can have ethical implications if you use your imagination. Use your imagination. Get creative!\n",
    "\n",
    "Even if you can't come up with an obvious ethical concern that should be addressed, you should know that a large number of ML projects that go into producation have unintended consequences and ethical problems once in production. How will your team address these issues?\n",
    "\n",
    "Consider a tool to help you address the potential issues such as https://deon.drivendata.org\n",
    "\n",
    "\n",
    "\n",
    "\n",
    "One potential ethical concern with this project is the potential for unintended bias in the data, particularly in labeling tweets as coming from either a Republican or a Democrat. This could lead to the perpetuation of stereotypes and reinforce political divisions.\n",
    "\n",
    "In addition, the potential for highlighting nationalistic and nativist speech due to its ability to generate high engagement may preserve some of the worst political tendencies in this country. \n"
   ]
  },
  {
   "cell_type": "markdown",
   "metadata": {},
   "source": [
    "# Team Expectations "
   ]
  },
  {
   "attachments": {},
   "cell_type": "markdown",
   "metadata": {},
   "source": [
    "Put things here that cement how you will interact/communicate as a team, how you will handle conflict and difficulty, how you will handle making decisions and setting goals/schedule, how much work you expect from each other, how you will handle deadlines, etc...\n",
    "- Cameron Faulkner: Twitter Data Collection\n",
    "- Nikhil Hegde: training model\n",
    "- Qianxi Gong: Implementation of sentiment analysis and feature parsing\n",
    "- Atul Nair: Model evaluation and selection\n"
   ]
  },
  {
   "cell_type": "markdown",
   "metadata": {},
   "source": [
    "# Project Timeline Proposal"
   ]
  },
  {
   "attachments": {},
   "cell_type": "markdown",
   "metadata": {},
   "source": [
    "Replace this with something meaningful that is appropriate for your needs. It doesn't have to be something that fits this format.  It doesn't have to be set in stone... \"no battle plan survives contact with the enemy\". But you need a battle plan nonetheless, and you need to keep it updated so you understand what you are trying to accomplish, who's responsible for what, and what the expected due dates are for each item.\n",
    "\n",
    "2/28: finish data collection\n",
    "3/5/23: finish model construction\n",
    "3/8: complete checkpoint requirements\n",
    "3/12: conduct model selection and analysis\n",
    "3/15: begin final write up\n",
    "\n",
    "\n",
    "\n",
    "| Meeting Date  | Meeting Time| Completed Before Meeting  | Discuss at Meeting |\n",
    "|---|---|---|---|\n",
    "| 1/20  |  1 PM |  Brainstorm topics/questions (all)  | Determine best form of communication; Discuss and decide on final project topic; discuss hypothesis; begin background research | \n",
    "| 1/26  |  10 AM |  Do background research on topic (Pelé) | Discuss ideal dataset(s) and ethics; draft project proposal | \n",
    "| 2/1  | 10 AM  | Edit, finalize, and submit proposal; Search for datasets (Beckenbaur)  | Discuss Wrangling and possible analytical approaches; Assign group members to lead each specific part   |\n",
    "| 2/14  | 6 PM  | Import & Wrangle Data ,do some EDA (Maradonna) | Review/Edit wrangling/EDA; Discuss Analysis Plan   |\n",
    "| 2/23  | 12 PM  | Finalize wrangling/EDA; Begin programming for project (Cruyff) | Discuss/edit project code; Complete project |\n",
    "| 3/13  | 12 PM  | Complete analysis; Draft results/conclusion/discussion (Carlos)| Discuss/edit full project |\n",
    "| 3/19  | Before 11:59 PM  | NA | Turn in Final Project  |"
   ]
  },
  {
   "cell_type": "markdown",
   "metadata": {},
   "source": [
    "# Footnotes\n",
    "<a name=\"lorenznote\"></a>1.[^](#lorenz): Lorenz, T. (9 Dec 2021) Birds Aren’t Real, or Are They? Inside a Gen Z Conspiracy Theory. *The New York Times*. https://www.nytimes.com/2021/12/09/technology/birds-arent-real-gen-z-misinformation.html<br> \n",
    "<a name=\"admonishnote\"></a>2.[^](#admonish): Also refs should be important to the background, not some randomly chosen vaguely related stuff. Include a web link if possible in refs as above.<br>\n",
    "<a name=\"sotanote\"></a>3.[^](#sota): Perhaps the current state of the art solution such as you see on [Papers with code](https://paperswithcode.com/sota). Or maybe not SOTA, but rather a standard textbook/Kaggle solution to this kind of problem\n"
   ]
  },
  {
   "cell_type": "code",
   "execution_count": null,
   "metadata": {},
   "outputs": [],
   "source": []
  }
 ],
 "metadata": {
  "kernelspec": {
   "display_name": "Python 3",
   "language": "python",
   "name": "python3"
  },
  "language_info": {
   "codemirror_mode": {
    "name": "ipython",
    "version": 3
   },
   "file_extension": ".py",
   "mimetype": "text/x-python",
   "name": "python",
   "nbconvert_exporter": "python",
   "pygments_lexer": "ipython3",
   "version": "3.8.8"
  }
 },
 "nbformat": 4,
 "nbformat_minor": 2
}
