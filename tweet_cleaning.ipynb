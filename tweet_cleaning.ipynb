{
 "cells": [
  {
   "attachments": {},
   "cell_type": "markdown",
   "metadata": {},
   "source": [
    "Data Cleaning"
   ]
  },
  {
   "cell_type": "code",
   "execution_count": 63,
   "metadata": {},
   "outputs": [],
   "source": [
    "import pandas as pd\n",
    "import math\n",
    "import ast"
   ]
  },
  {
   "cell_type": "code",
   "execution_count": 3,
   "metadata": {},
   "outputs": [
    {
     "name": "stderr",
     "output_type": "stream",
     "text": [
      "/Users/cameronfaulkner/opt/anaconda3/lib/python3.9/site-packages/IPython/core/interactiveshell.py:3444: DtypeWarning: Columns (22,23,25,28) have mixed types.Specify dtype option on import or set low_memory=False.\n",
      "  exec(code_obj, self.user_global_ns, self.user_ns)\n"
     ]
    }
   ],
   "source": [
    "raw_datset = pd.read_csv(\"/Users/cameronfaulkner/Documents/Cogs 118a/Final Project/Scraped Tweets\")"
   ]
  },
  {
   "attachments": {},
   "cell_type": "markdown",
   "metadata": {},
   "source": [
    "Select Relevant Features\n",
    "\n",
    "keeping the following features: \n",
    "\n",
    "-rawContent\n",
    "\n",
    "-replyCount\n",
    "\n",
    "-reTweetCount\n",
    "\n",
    "-likeCount\n",
    "\n",
    "-quoteCount\n",
    "\n",
    "-links\n",
    "\n",
    "-media\n",
    "\n",
    "-mentionedUsers\n",
    "\n",
    "-hashtags \n",
    "\n",
    "-Party"
   ]
  },
  {
   "cell_type": "code",
   "execution_count": 4,
   "metadata": {},
   "outputs": [
    {
     "data": {
      "text/plain": [
       "Index(['url', 'date', 'rawContent', 'renderedContent', 'id', 'user',\n",
       "       'replyCount', 'retweetCount', 'likeCount', 'quoteCount',\n",
       "       'conversationId', 'lang', 'source', 'sourceUrl', 'sourceLabel', 'links',\n",
       "       'media', 'retweetedTweet', 'quotedTweet', 'inReplyToTweetId',\n",
       "       'inReplyToUser', 'mentionedUsers', 'coordinates', 'place', 'hashtags',\n",
       "       'cashtags', 'card', 'viewCount', 'vibe', 'State', 'Member of Congress',\n",
       "       'Party'],\n",
       "      dtype='object')"
      ]
     },
     "execution_count": 4,
     "metadata": {},
     "output_type": "execute_result"
    }
   ],
   "source": [
    "raw_datset.columns"
   ]
  },
  {
   "cell_type": "code",
   "execution_count": 93,
   "metadata": {},
   "outputs": [
    {
     "data": {
      "text/html": [
       "<div>\n",
       "<style scoped>\n",
       "    .dataframe tbody tr th:only-of-type {\n",
       "        vertical-align: middle;\n",
       "    }\n",
       "\n",
       "    .dataframe tbody tr th {\n",
       "        vertical-align: top;\n",
       "    }\n",
       "\n",
       "    .dataframe thead th {\n",
       "        text-align: right;\n",
       "    }\n",
       "</style>\n",
       "<table border=\"1\" class=\"dataframe\">\n",
       "  <thead>\n",
       "    <tr style=\"text-align: right;\">\n",
       "      <th></th>\n",
       "      <th>rawContent</th>\n",
       "      <th>replyCount</th>\n",
       "      <th>retweetCount</th>\n",
       "      <th>likeCount</th>\n",
       "      <th>quoteCount</th>\n",
       "      <th>links</th>\n",
       "      <th>media</th>\n",
       "      <th>mentionedUsers</th>\n",
       "      <th>hashtags</th>\n",
       "      <th>Party</th>\n",
       "    </tr>\n",
       "  </thead>\n",
       "  <tbody>\n",
       "    <tr>\n",
       "      <th>0</th>\n",
       "      <td>New Year’s Day in Seward overlooking the harbo...</td>\n",
       "      <td>44.0</td>\n",
       "      <td>12.0</td>\n",
       "      <td>239.0</td>\n",
       "      <td>2.0</td>\n",
       "      <td>NaN</td>\n",
       "      <td>[{'previewUrl': 'https://pbs.twimg.com/media/F...</td>\n",
       "      <td>NaN</td>\n",
       "      <td>NaN</td>\n",
       "      <td>R</td>\n",
       "    </tr>\n",
       "    <tr>\n",
       "      <th>1</th>\n",
       "      <td>Happy #NewYear!</td>\n",
       "      <td>19.0</td>\n",
       "      <td>4.0</td>\n",
       "      <td>22.0</td>\n",
       "      <td>1.0</td>\n",
       "      <td>NaN</td>\n",
       "      <td>NaN</td>\n",
       "      <td>NaN</td>\n",
       "      <td>['NewYear']</td>\n",
       "      <td>R</td>\n",
       "    </tr>\n",
       "    <tr>\n",
       "      <th>2</th>\n",
       "      <td>I championed provisions to strengthen Alaska’s...</td>\n",
       "      <td>9.0</td>\n",
       "      <td>5.0</td>\n",
       "      <td>19.0</td>\n",
       "      <td>0.0</td>\n",
       "      <td>NaN</td>\n",
       "      <td>NaN</td>\n",
       "      <td>NaN</td>\n",
       "      <td>NaN</td>\n",
       "      <td>R</td>\n",
       "    </tr>\n",
       "    <tr>\n",
       "      <th>3</th>\n",
       "      <td>December: As senior Appropriator, I helped wri...</td>\n",
       "      <td>11.0</td>\n",
       "      <td>6.0</td>\n",
       "      <td>28.0</td>\n",
       "      <td>3.0</td>\n",
       "      <td>NaN</td>\n",
       "      <td>[{'previewUrl': 'https://pbs.twimg.com/media/F...</td>\n",
       "      <td>NaN</td>\n",
       "      <td>NaN</td>\n",
       "      <td>R</td>\n",
       "    </tr>\n",
       "    <tr>\n",
       "      <th>4</th>\n",
       "      <td>December: Congressman Don Young’s legacy will ...</td>\n",
       "      <td>5.0</td>\n",
       "      <td>9.0</td>\n",
       "      <td>46.0</td>\n",
       "      <td>1.0</td>\n",
       "      <td>NaN</td>\n",
       "      <td>[{'previewUrl': 'https://pbs.twimg.com/media/F...</td>\n",
       "      <td>NaN</td>\n",
       "      <td>NaN</td>\n",
       "      <td>R</td>\n",
       "    </tr>\n",
       "  </tbody>\n",
       "</table>\n",
       "</div>"
      ],
      "text/plain": [
       "                                          rawContent  replyCount  \\\n",
       "0  New Year’s Day in Seward overlooking the harbo...        44.0   \n",
       "1                                    Happy #NewYear!        19.0   \n",
       "2  I championed provisions to strengthen Alaska’s...         9.0   \n",
       "3  December: As senior Appropriator, I helped wri...        11.0   \n",
       "4  December: Congressman Don Young’s legacy will ...         5.0   \n",
       "\n",
       "   retweetCount  likeCount  quoteCount links  \\\n",
       "0          12.0      239.0         2.0   NaN   \n",
       "1           4.0       22.0         1.0   NaN   \n",
       "2           5.0       19.0         0.0   NaN   \n",
       "3           6.0       28.0         3.0   NaN   \n",
       "4           9.0       46.0         1.0   NaN   \n",
       "\n",
       "                                               media mentionedUsers  \\\n",
       "0  [{'previewUrl': 'https://pbs.twimg.com/media/F...            NaN   \n",
       "1                                                NaN            NaN   \n",
       "2                                                NaN            NaN   \n",
       "3  [{'previewUrl': 'https://pbs.twimg.com/media/F...            NaN   \n",
       "4  [{'previewUrl': 'https://pbs.twimg.com/media/F...            NaN   \n",
       "\n",
       "      hashtags Party  \n",
       "0          NaN     R  \n",
       "1  ['NewYear']     R  \n",
       "2          NaN     R  \n",
       "3          NaN     R  \n",
       "4          NaN     R  "
      ]
     },
     "execution_count": 93,
     "metadata": {},
     "output_type": "execute_result"
    }
   ],
   "source": [
    "reduced_dataset = raw_datset[[\"rawContent\",\"replyCount\",\"retweetCount\",\"likeCount\",\"quoteCount\",\"links\",\"media\",\"mentionedUsers\",\"hashtags\",\"Party\"]]\n",
    "#save off to csv\n",
    "reduced_dataset.to_csv(\"Reduced Dataset\",index=False)\n",
    "reduced_dataset.head()"
   ]
  },
  {
   "cell_type": "code",
   "execution_count": 94,
   "metadata": {},
   "outputs": [],
   "source": [
    "#working off saved file\n",
    "reduced_dataset = pd.read_csv(\"/Users/cameronfaulkner/Documents/Cogs 118a/Final Project/Reduced Dataset\")"
   ]
  },
  {
   "attachments": {},
   "cell_type": "markdown",
   "metadata": {},
   "source": [
    "Transform Everything into Numerical Data:"
   ]
  },
  {
   "cell_type": "code",
   "execution_count": 95,
   "metadata": {},
   "outputs": [],
   "source": [
    "#binarize party affiliation of tweet sender function\n",
    "def party_binarize(party_list):\n",
    "    output_list = []\n",
    "    for party in party_list:\n",
    "        if party == \"R\":\n",
    "            output_list.append(1)\n",
    "        else:\n",
    "            output_list.append(0)\n",
    "    return output_list"
   ]
  },
  {
   "attachments": {},
   "cell_type": "markdown",
   "metadata": {},
   "source": [
    "Binarizing the Party Data"
   ]
  },
  {
   "cell_type": "code",
   "execution_count": 96,
   "metadata": {},
   "outputs": [
    {
     "data": {
      "text/html": [
       "<div>\n",
       "<style scoped>\n",
       "    .dataframe tbody tr th:only-of-type {\n",
       "        vertical-align: middle;\n",
       "    }\n",
       "\n",
       "    .dataframe tbody tr th {\n",
       "        vertical-align: top;\n",
       "    }\n",
       "\n",
       "    .dataframe thead th {\n",
       "        text-align: right;\n",
       "    }\n",
       "</style>\n",
       "<table border=\"1\" class=\"dataframe\">\n",
       "  <thead>\n",
       "    <tr style=\"text-align: right;\">\n",
       "      <th></th>\n",
       "      <th>rawContent</th>\n",
       "      <th>replyCount</th>\n",
       "      <th>retweetCount</th>\n",
       "      <th>likeCount</th>\n",
       "      <th>quoteCount</th>\n",
       "      <th>links</th>\n",
       "      <th>media</th>\n",
       "      <th>mentionedUsers</th>\n",
       "      <th>hashtags</th>\n",
       "      <th>Party</th>\n",
       "    </tr>\n",
       "  </thead>\n",
       "  <tbody>\n",
       "    <tr>\n",
       "      <th>0</th>\n",
       "      <td>New Year’s Day in Seward overlooking the harbo...</td>\n",
       "      <td>44.0</td>\n",
       "      <td>12.0</td>\n",
       "      <td>239.0</td>\n",
       "      <td>2.0</td>\n",
       "      <td>NaN</td>\n",
       "      <td>[{'previewUrl': 'https://pbs.twimg.com/media/F...</td>\n",
       "      <td>NaN</td>\n",
       "      <td>NaN</td>\n",
       "      <td>1</td>\n",
       "    </tr>\n",
       "    <tr>\n",
       "      <th>1</th>\n",
       "      <td>Happy #NewYear!</td>\n",
       "      <td>19.0</td>\n",
       "      <td>4.0</td>\n",
       "      <td>22.0</td>\n",
       "      <td>1.0</td>\n",
       "      <td>NaN</td>\n",
       "      <td>NaN</td>\n",
       "      <td>NaN</td>\n",
       "      <td>['NewYear']</td>\n",
       "      <td>1</td>\n",
       "    </tr>\n",
       "    <tr>\n",
       "      <th>2</th>\n",
       "      <td>I championed provisions to strengthen Alaska’s...</td>\n",
       "      <td>9.0</td>\n",
       "      <td>5.0</td>\n",
       "      <td>19.0</td>\n",
       "      <td>0.0</td>\n",
       "      <td>NaN</td>\n",
       "      <td>NaN</td>\n",
       "      <td>NaN</td>\n",
       "      <td>NaN</td>\n",
       "      <td>1</td>\n",
       "    </tr>\n",
       "    <tr>\n",
       "      <th>3</th>\n",
       "      <td>December: As senior Appropriator, I helped wri...</td>\n",
       "      <td>11.0</td>\n",
       "      <td>6.0</td>\n",
       "      <td>28.0</td>\n",
       "      <td>3.0</td>\n",
       "      <td>NaN</td>\n",
       "      <td>[{'previewUrl': 'https://pbs.twimg.com/media/F...</td>\n",
       "      <td>NaN</td>\n",
       "      <td>NaN</td>\n",
       "      <td>1</td>\n",
       "    </tr>\n",
       "    <tr>\n",
       "      <th>4</th>\n",
       "      <td>December: Congressman Don Young’s legacy will ...</td>\n",
       "      <td>5.0</td>\n",
       "      <td>9.0</td>\n",
       "      <td>46.0</td>\n",
       "      <td>1.0</td>\n",
       "      <td>NaN</td>\n",
       "      <td>[{'previewUrl': 'https://pbs.twimg.com/media/F...</td>\n",
       "      <td>NaN</td>\n",
       "      <td>NaN</td>\n",
       "      <td>1</td>\n",
       "    </tr>\n",
       "  </tbody>\n",
       "</table>\n",
       "</div>"
      ],
      "text/plain": [
       "                                          rawContent  replyCount  \\\n",
       "0  New Year’s Day in Seward overlooking the harbo...        44.0   \n",
       "1                                    Happy #NewYear!        19.0   \n",
       "2  I championed provisions to strengthen Alaska’s...         9.0   \n",
       "3  December: As senior Appropriator, I helped wri...        11.0   \n",
       "4  December: Congressman Don Young’s legacy will ...         5.0   \n",
       "\n",
       "   retweetCount  likeCount  quoteCount links  \\\n",
       "0          12.0      239.0         2.0   NaN   \n",
       "1           4.0       22.0         1.0   NaN   \n",
       "2           5.0       19.0         0.0   NaN   \n",
       "3           6.0       28.0         3.0   NaN   \n",
       "4           9.0       46.0         1.0   NaN   \n",
       "\n",
       "                                               media mentionedUsers  \\\n",
       "0  [{'previewUrl': 'https://pbs.twimg.com/media/F...            NaN   \n",
       "1                                                NaN            NaN   \n",
       "2                                                NaN            NaN   \n",
       "3  [{'previewUrl': 'https://pbs.twimg.com/media/F...            NaN   \n",
       "4  [{'previewUrl': 'https://pbs.twimg.com/media/F...            NaN   \n",
       "\n",
       "      hashtags  Party  \n",
       "0          NaN      1  \n",
       "1  ['NewYear']      1  \n",
       "2          NaN      1  \n",
       "3          NaN      1  \n",
       "4          NaN      1  "
      ]
     },
     "execution_count": 96,
     "metadata": {},
     "output_type": "execute_result"
    }
   ],
   "source": [
    "binary_party = party_binarize(reduced_dataset[\"Party\"])\n",
    "reduced_dataset[\"Party\"] = binary_party\n",
    "reduced_dataset.head()"
   ]
  },
  {
   "attachments": {},
   "cell_type": "markdown",
   "metadata": {},
   "source": [
    "Transforming Links, Media, and Hashtags into Numerical Values"
   ]
  },
  {
   "cell_type": "code",
   "execution_count": 97,
   "metadata": {},
   "outputs": [],
   "source": [
    "#outputs number of items in a passed list, or 0 if the item isn't a list\n",
    "def list_count(lst):\n",
    "    if isinstance(lst,str):\n",
    "        transform = ast.literal_eval(lst)\n",
    "        return len(transform)\n",
    "    return 0"
   ]
  },
  {
   "cell_type": "code",
   "execution_count": 98,
   "metadata": {},
   "outputs": [],
   "source": [
    "#LINKS TRANSFORM, can only be done once\n",
    "\n",
    "reduced_dataset[\"links\"] = reduced_dataset[\"links\"].apply(list_count)\n",
    "\n",
    "#MEDIA TRANSFORM\n",
    "\n",
    "reduced_dataset[\"media\"] = reduced_dataset[\"media\"].apply(list_count)\n",
    "\n",
    "#HASHTAGS TRANSFORM\n",
    "\n",
    "reduced_dataset[\"hashtags\"] = reduced_dataset[\"hashtags\"].apply(list_count)\n",
    "\n",
    "#MENTIONEDUSERS TRANSFORMS\n",
    "reduced_dataset[\"mentionedUsers\"] = reduced_dataset[\"mentionedUsers\"].apply(list_count)"
   ]
  },
  {
   "cell_type": "code",
   "execution_count": 99,
   "metadata": {},
   "outputs": [
    {
     "data": {
      "text/html": [
       "<div>\n",
       "<style scoped>\n",
       "    .dataframe tbody tr th:only-of-type {\n",
       "        vertical-align: middle;\n",
       "    }\n",
       "\n",
       "    .dataframe tbody tr th {\n",
       "        vertical-align: top;\n",
       "    }\n",
       "\n",
       "    .dataframe thead th {\n",
       "        text-align: right;\n",
       "    }\n",
       "</style>\n",
       "<table border=\"1\" class=\"dataframe\">\n",
       "  <thead>\n",
       "    <tr style=\"text-align: right;\">\n",
       "      <th></th>\n",
       "      <th>rawContent</th>\n",
       "      <th>replyCount</th>\n",
       "      <th>retweetCount</th>\n",
       "      <th>likeCount</th>\n",
       "      <th>quoteCount</th>\n",
       "      <th>links</th>\n",
       "      <th>media</th>\n",
       "      <th>mentionedUsers</th>\n",
       "      <th>hashtags</th>\n",
       "      <th>Party</th>\n",
       "    </tr>\n",
       "  </thead>\n",
       "  <tbody>\n",
       "    <tr>\n",
       "      <th>0</th>\n",
       "      <td>New Year’s Day in Seward overlooking the harbo...</td>\n",
       "      <td>44.0</td>\n",
       "      <td>12.0</td>\n",
       "      <td>239.0</td>\n",
       "      <td>2.0</td>\n",
       "      <td>0</td>\n",
       "      <td>3</td>\n",
       "      <td>0</td>\n",
       "      <td>0</td>\n",
       "      <td>1</td>\n",
       "    </tr>\n",
       "    <tr>\n",
       "      <th>1</th>\n",
       "      <td>Happy #NewYear!</td>\n",
       "      <td>19.0</td>\n",
       "      <td>4.0</td>\n",
       "      <td>22.0</td>\n",
       "      <td>1.0</td>\n",
       "      <td>0</td>\n",
       "      <td>0</td>\n",
       "      <td>0</td>\n",
       "      <td>1</td>\n",
       "      <td>1</td>\n",
       "    </tr>\n",
       "    <tr>\n",
       "      <th>2</th>\n",
       "      <td>I championed provisions to strengthen Alaska’s...</td>\n",
       "      <td>9.0</td>\n",
       "      <td>5.0</td>\n",
       "      <td>19.0</td>\n",
       "      <td>0.0</td>\n",
       "      <td>0</td>\n",
       "      <td>0</td>\n",
       "      <td>0</td>\n",
       "      <td>0</td>\n",
       "      <td>1</td>\n",
       "    </tr>\n",
       "    <tr>\n",
       "      <th>3</th>\n",
       "      <td>December: As senior Appropriator, I helped wri...</td>\n",
       "      <td>11.0</td>\n",
       "      <td>6.0</td>\n",
       "      <td>28.0</td>\n",
       "      <td>3.0</td>\n",
       "      <td>0</td>\n",
       "      <td>1</td>\n",
       "      <td>0</td>\n",
       "      <td>0</td>\n",
       "      <td>1</td>\n",
       "    </tr>\n",
       "    <tr>\n",
       "      <th>4</th>\n",
       "      <td>December: Congressman Don Young’s legacy will ...</td>\n",
       "      <td>5.0</td>\n",
       "      <td>9.0</td>\n",
       "      <td>46.0</td>\n",
       "      <td>1.0</td>\n",
       "      <td>0</td>\n",
       "      <td>1</td>\n",
       "      <td>0</td>\n",
       "      <td>0</td>\n",
       "      <td>1</td>\n",
       "    </tr>\n",
       "  </tbody>\n",
       "</table>\n",
       "</div>"
      ],
      "text/plain": [
       "                                          rawContent  replyCount  \\\n",
       "0  New Year’s Day in Seward overlooking the harbo...        44.0   \n",
       "1                                    Happy #NewYear!        19.0   \n",
       "2  I championed provisions to strengthen Alaska’s...         9.0   \n",
       "3  December: As senior Appropriator, I helped wri...        11.0   \n",
       "4  December: Congressman Don Young’s legacy will ...         5.0   \n",
       "\n",
       "   retweetCount  likeCount  quoteCount  links  media  mentionedUsers  \\\n",
       "0          12.0      239.0         2.0      0      3               0   \n",
       "1           4.0       22.0         1.0      0      0               0   \n",
       "2           5.0       19.0         0.0      0      0               0   \n",
       "3           6.0       28.0         3.0      0      1               0   \n",
       "4           9.0       46.0         1.0      0      1               0   \n",
       "\n",
       "   hashtags  Party  \n",
       "0         0      1  \n",
       "1         1      1  \n",
       "2         0      1  \n",
       "3         0      1  \n",
       "4         0      1  "
      ]
     },
     "execution_count": 99,
     "metadata": {},
     "output_type": "execute_result"
    }
   ],
   "source": [
    "reduced_dataset.head()"
   ]
  },
  {
   "attachments": {},
   "cell_type": "markdown",
   "metadata": {},
   "source": [
    "Check to see if each of our numerical features only contain floats"
   ]
  },
  {
   "cell_type": "code",
   "execution_count": 7,
   "metadata": {},
   "outputs": [],
   "source": [
    "types_in_column = {\"replyCount\":[],\"retweetCount\":[],\"likeCount\":[],\"quoteCount\":[]}"
   ]
  },
  {
   "cell_type": "code",
   "execution_count": 8,
   "metadata": {},
   "outputs": [
    {
     "data": {
      "text/plain": [
       "{'replyCount': dtype('float64'),\n",
       " 'retweetCount': dtype('float64'),\n",
       " 'likeCount': dtype('float64'),\n",
       " 'quoteCount': dtype('float64')}"
      ]
     },
     "execution_count": 8,
     "metadata": {},
     "output_type": "execute_result"
    }
   ],
   "source": [
    "for key in types_in_column.keys():\n",
    "    types_in_column[key] = reduced_dataset[key].dtypes\n",
    "types_in_column"
   ]
  },
  {
   "attachments": {},
   "cell_type": "markdown",
   "metadata": {},
   "source": [
    "As seen above, our numerical columns only include floats, as we wanted.\n",
    "\n",
    "Next, we will check to see if the numerical values associated with every Tweet is in the correct range (greater than 0)."
   ]
  },
  {
   "cell_type": "code",
   "execution_count": 10,
   "metadata": {},
   "outputs": [
    {
     "data": {
      "text/plain": [
       "{'replyCount': 0, 'retweetCount': 0, 'likeCount': 0, 'quoteCount': 0}"
      ]
     },
     "execution_count": 10,
     "metadata": {},
     "output_type": "execute_result"
    }
   ],
   "source": [
    "less_than_zero_in_column = {\"replyCount\":0,\"retweetCount\":0,\"likeCount\":0,\"quoteCount\":0}\n",
    "for key in types_in_column.keys():\n",
    "    count = reduced_dataset[key][reduced_dataset[key]<0].shape[0]\n",
    "    less_than_zero_in_column[key] = count\n",
    "less_than_zero_in_column"
   ]
  },
  {
   "attachments": {},
   "cell_type": "markdown",
   "metadata": {},
   "source": [
    "Again, we see no values out of desired range in the scraped Tweets"
   ]
  },
  {
   "cell_type": "code",
   "execution_count": 21,
   "metadata": {},
   "outputs": [
    {
     "name": "stdout",
     "output_type": "stream",
     "text": [
      "number of NaN Tweets: 0\n",
      "number of Tweets with no content: 0\n"
     ]
    }
   ],
   "source": [
    "#number of NaN Tweets: 0\n",
    "print(\"number of NaN Tweets: \" + str(reduced_dataset[reduced_dataset[\"rawContent\"].notna() == False].shape[0]))\n",
    "#number of Tweets with no content: 0\n",
    "print(\"number of Tweets with no content: \"+str(reduced_dataset[\"rawContent\"][reduced_dataset[\"rawContent\"].str.len()<1].shape[0]))"
   ]
  },
  {
   "cell_type": "code",
   "execution_count": 33,
   "metadata": {},
   "outputs": [
    {
     "name": "stdout",
     "output_type": "stream",
     "text": [
      "Median Tweet Count by Member of Congress: 1336.0\n"
     ]
    }
   ],
   "source": [
    "#median Tweet Count by user\n",
    "print(\"Median Tweet Count by Member of Congress: \"+ str(reduced_dataset.groupby(\"Member of Congress\")[\"likeCount\"].count().median()))"
   ]
  },
  {
   "attachments": {},
   "cell_type": "markdown",
   "metadata": {},
   "source": [
    "Save Changes"
   ]
  },
  {
   "cell_type": "code",
   "execution_count": 100,
   "metadata": {},
   "outputs": [],
   "source": [
    "reduced_dataset.to_csv(\"Reduced Dataset\",index=False)"
   ]
  }
 ],
 "metadata": {
  "kernelspec": {
   "display_name": "base",
   "language": "python",
   "name": "python3"
  },
  "language_info": {
   "codemirror_mode": {
    "name": "ipython",
    "version": 3
   },
   "file_extension": ".py",
   "mimetype": "text/x-python",
   "name": "python",
   "nbconvert_exporter": "python",
   "pygments_lexer": "ipython3",
   "version": "3.9.7"
  },
  "orig_nbformat": 4
 },
 "nbformat": 4,
 "nbformat_minor": 2
}
